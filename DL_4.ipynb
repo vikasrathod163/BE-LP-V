{
  "cells": [
    {
      "cell_type": "code",
      "execution_count": null,
      "metadata": {
        "id": "BAAQKVKC8GGG"
      },
      "outputs": [],
      "source": [
        "import numpy as np\n",
        "import pandas as pd\n",
        "import matplotlib.pyplot as plt\n",
        "from sklearn.preprocessing import MinMaxScaler\n",
        "from tensorflow.keras.models import Sequential\n",
        "from tensorflow.keras.layers import Dense, LSTM"
      ]
    },
    {
      "cell_type": "code",
      "execution_count": null,
      "metadata": {},
      "outputs": [],
      "source": [
        "from google.colab import drive\n",
        "drive.mount('/content/drive')"
      ]
    },
    {
      "cell_type": "code",
      "execution_count": null,
      "metadata": {
        "colab": {
          "base_uri": "https://localhost:8080/",
          "height": 206
        },
        "id": "IxX7VCJM8GfV",
        "outputId": "69d0a98c-2775-47c3-99b0-aaa38a28a45e"
      },
      "outputs": [],
      "source": [
        "data=pd.read_csv('/content/drive/MyDrive/GOOG.csv')\n",
        "data.head()"
      ]
    },
    {
      "cell_type": "code",
      "execution_count": null,
      "metadata": {
        "id": "6qwgzYfF8GhQ"
      },
      "outputs": [],
      "source": [
        "data = data['Close'].values\n",
        "\n",
        "data = data.reshape(-1, 1)\n",
        "\n",
        "scaler = MinMaxScaler(feature_range=(0, 1))\n",
        "scaled_data = scaler.fit_transform(data)"
      ]
    },
    {
      "cell_type": "code",
      "execution_count": null,
      "metadata": {
        "id": "5ArMdXtF8GlJ"
      },
      "outputs": [],
      "source": [
        "\n",
        "look_back = 60\n",
        "\n",
        "X = []\n",
        "y = []\n",
        "\n",
        "for i in range(look_back, len(scaled_data)):\n",
        "  X.append(scaled_data[i - look_back:i, 0])\n",
        "  y.append(scaled_data[i, 0])\n",
        "\n",
        "X = np.array(X)\n",
        "y = np.array(y)\n",
        "\n",
        "X = X.reshape(X.shape[0], X.shape[1], 1)"
      ]
    },
    {
      "cell_type": "code",
      "execution_count": null,
      "metadata": {
        "colab": {
          "base_uri": "https://localhost:8080/"
        },
        "id": "Z9oLkWBc9gnD",
        "outputId": "610271c8-e663-4c86-d4e9-275b5ba0d370"
      },
      "outputs": [],
      "source": [
        "model = Sequential()\n",
        "\n",
        "model.add(LSTM(units=50, return_sequences=False, input_shape=(X.shape[1], 1)))\n",
        "\n",
        "model.add(Dense(units=1))\n",
        "\n",
        "model.compile(optimizer='adam', loss='mean_squared_error')"
      ]
    },
    {
      "cell_type": "code",
      "execution_count": null,
      "metadata": {
        "colab": {
          "base_uri": "https://localhost:8080/"
        },
        "id": "f_yQRgNX9gpK",
        "outputId": "22219996-31c9-4ad2-a161-708350a0d64c"
      },
      "outputs": [],
      "source": [
        "model.fit(X, y, epochs=5, batch_size=32)"
      ]
    },
    {
      "cell_type": "code",
      "execution_count": null,
      "metadata": {
        "colab": {
          "base_uri": "https://localhost:8080/"
        },
        "id": "KwmGknaa9gsv",
        "outputId": "80bb1177-2b52-486c-8d22-74fe1016c605"
      },
      "outputs": [],
      "source": [
        "predicted_stock_price = model.predict(X)\n",
        "predicted_stock_price = scaler.inverse_transform(predicted_stock_price)"
      ]
    },
    {
      "cell_type": "code",
      "execution_count": null,
      "metadata": {
        "colab": {
          "base_uri": "https://localhost:8080/",
          "height": 472
        },
        "id": "Dxmf8Cho925e",
        "outputId": "5dd87842-38b2-4e48-939c-558bd643409e"
      },
      "outputs": [],
      "source": [
        "plt.plot(data, color='blue', label='Actual Google Stock Price')\n",
        "plt.plot(np.arange(look_back, len(data)), predicted_stock_price, color='red', label='Predicted GoogleStock Price')\n",
        "plt.title('Google Stock Price Prediction')\n",
        "plt.xlabel('Time')\n",
        "plt.ylabel('Stock Price')\n",
        "plt.legend()\n",
        "plt.show()"
      ]
    },
    {
      "cell_type": "code",
      "execution_count": null,
      "metadata": {
        "colab": {
          "base_uri": "https://localhost:8080/"
        },
        "id": "P2MKdgCz928w",
        "outputId": "6761d391-80c9-47aa-8c0a-432cd98ff795"
      },
      "outputs": [],
      "source": [
        "from sklearn.metrics import mean_squared_error\n",
        "\n",
        "mse = mean_squared_error(y, predicted_stock_price)\n",
        "print(f\"Mean Squared Error: {mse}\")"
      ]
    }
  ],
  "metadata": {
    "colab": {
      "provenance": []
    },
    "kernelspec": {
      "display_name": "Python 3",
      "language": "python",
      "name": "python3"
    },
    "language_info": {
      "codemirror_mode": {
        "name": "ipython",
        "version": 3
      },
      "file_extension": ".py",
      "mimetype": "text/x-python",
      "name": "python",
      "nbconvert_exporter": "python",
      "pygments_lexer": "ipython3",
      "version": "3.12.6"
    }
  },
  "nbformat": 4,
  "nbformat_minor": 0
}
